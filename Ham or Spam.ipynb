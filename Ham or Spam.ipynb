{
 "cells": [
  {
   "cell_type": "code",
   "execution_count": 2,
   "metadata": {},
   "outputs": [
    {
     "name": "stderr",
     "output_type": "stream",
     "text": [
      "[nltk_data] Downloading package stopwords to\n",
      "[nltk_data]     C:\\Users\\TAZ78\\AppData\\Roaming\\nltk_data...\n",
      "[nltk_data]   Package stopwords is already up-to-date!\n",
      "[nltk_data] Downloading package punkt to\n",
      "[nltk_data]     C:\\Users\\TAZ78\\AppData\\Roaming\\nltk_data...\n",
      "[nltk_data]   Package punkt is already up-to-date!\n"
     ]
    },
    {
     "data": {
      "text/plain": [
       "True"
      ]
     },
     "execution_count": 2,
     "metadata": {},
     "output_type": "execute_result"
    }
   ],
   "source": [
    "import pandas as pd\n",
    "import numpy as np\n",
    "from sklearn.model_selection import train_test_split\n",
    "from sklearn.feature_extraction.text import CountVectorizer, TfidfVectorizer\n",
    "from sklearn.naive_bayes import MultinomialNB\n",
    "from sklearn.metrics import accuracy_score, classification_report, confusion_matrix\n",
    "from sklearn.pipeline import make_pipeline\n",
    "import nltk\n",
    "from nltk.corpus import stopwords\n",
    "from sklearn.metrics import mean_squared_error, r2_score\n",
    "import matplotlib.pyplot as plt\n",
    "import seaborn as sns\n",
    "nltk.download('stopwords')\n",
    "nltk.download('punkt')"
   ]
  },
  {
   "cell_type": "code",
   "execution_count": 11,
   "metadata": {},
   "outputs": [
    {
     "name": "stdout",
     "output_type": "stream",
     "text": [
      "<class 'pandas.core.frame.DataFrame'>\n",
      "RangeIndex: 53661 entries, 0 to 53660\n",
      "Data columns (total 2 columns):\n",
      " #   Column  Non-Null Count  Dtype \n",
      "---  ------  --------------  ----- \n",
      " 0   label   53661 non-null  int64 \n",
      " 1   text    53661 non-null  object\n",
      "dtypes: int64(1), object(1)\n",
      "memory usage: 838.6+ KB\n"
     ]
    }
   ],
   "source": [
    "df = pd.read_csv('Email_Text.csv')\n",
    "df.head()\n",
    "df.info()\n"
   ]
  },
  {
   "cell_type": "code",
   "execution_count": 6,
   "metadata": {},
   "outputs": [],
   "source": [
    "#Split to training and testing\n",
    "X = df['text']\n",
    "Y = df['label']\n",
    "\n",
    "X_train, X_test, Y_train, Y_test = train_test_split(X, Y, test_size=.2, random_state=42)\n",
    "\n",
    "#USE TF-IDF Vectorizer to convert text into features\n",
    "stop_words = stopwords.words('english')\n",
    "TFIDF = TfidfVectorizer(stop_words=stop_words)\n",
    "\n",
    "#Transform Training and Testing Data\n",
    "X_train_TFIDF = TFIDF.fit_transform(X_train)\n",
    "X_test_TFDIF = TFIDF.transform(X_test)"
   ]
  },
  {
   "cell_type": "code",
   "execution_count": 7,
   "metadata": {},
   "outputs": [],
   "source": [
    "#Train the Naive Bayes Model\n",
    "Model = MultinomialNB()\n",
    "Model.fit(X_train_TFIDF, Y_train)\n",
    "\n",
    "#Make Predictions on the test set\n",
    "Y_pred = Model.predict(X_test_TFDIF)"
   ]
  },
  {
   "cell_type": "code",
   "execution_count": 9,
   "metadata": {},
   "outputs": [
    {
     "name": "stdout",
     "output_type": "stream",
     "text": [
      "Accuracy: 0.9720488213919687\n",
      "Classification Repor: \n",
      "              precision    recall  f1-score   support\n",
      "\n",
      "           0       0.95      0.99      0.97      4711\n",
      "           1       0.99      0.96      0.97      6022\n",
      "\n",
      "    accuracy                           0.97     10733\n",
      "   macro avg       0.97      0.97      0.97     10733\n",
      "weighted avg       0.97      0.97      0.97     10733\n",
      "\n"
     ]
    },
    {
     "data": {
      "image/png": "[encoded data removed]",
      "text/plain": [
       "<Figure size 640x480 with 2 Axes>"
      ]
     },
     "metadata": {},
     "output_type": "display_data"
    }
   ],
   "source": [
    "#Evaluate Model Accuracy\n",
    "Accuracy = accuracy_score(Y_test, Y_pred)\n",
    "print(f'Accuracy: {Accuracy}')\n",
    "\n",
    "#Generate and print Classification Report\n",
    "print(\"Classification Repor: \")\n",
    "print(classification_report(Y_test, Y_pred))\n",
    "\n",
    "#Plot Confusion Matrix\n",
    "CM = confusion_matrix(Y_test, Y_pred)\n",
    "sns.heatmap(CM, annot=True, fmt='d', cmap='Blues', xticklabels=['Ham', 'Spam'], yticklabels=['Ham', 'Spam'])\n",
    "plt.xlabel(\"Predicted\")\n",
    "plt.ylabel(\"Actual\")\n",
    "plt.title(\"Confusion Matrix\")\n",
    "plt.show()\n"
   ]
  }
 ],
 "metadata": {
  "kernelspec": {
   "display_name": "Python 3",
   "language": "python",
   "name": "python3"
  },
  "language_info": {
   "codemirror_mode": {
    "name": "ipython",
    "version": 3
   },
   "file_extension": ".py",
   "mimetype": "text/x-python",
   "name": "python",
   "nbconvert_exporter": "python",
   "pygments_lexer": "ipython3",
   "version": "3.11.9"
  }
 },
 "nbformat": 4,
 "nbformat_minor": 2
}
